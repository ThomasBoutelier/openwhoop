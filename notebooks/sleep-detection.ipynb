{
 "cells": [
  {
   "cell_type": "code",
   "execution_count": null,
   "metadata": {},
   "outputs": [],
   "source": [
    "import pandas as pd\n",
    "import struct\n",
    "import datetime\n",
    "from plotly.subplots import make_subplots\n",
    "import numpy as np\n",
    "import plotly.graph_objects as go\n",
    "from dotenv import load_dotenv\n",
    "import os\n",
    "from scipy.signal import medfilt"
   ]
  },
  {
   "cell_type": "code",
   "execution_count": null,
   "metadata": {},
   "outputs": [],
   "source": [
    "QUERY = \"\"\"\n",
    "select \n",
    "    lower(hex(bytes)) as packets_hex,\n",
    "    bytes as packet\n",
    "from packets \n",
    "where (lower(hex(bytes)) like \"aa6400a1%\" or lower(hex(bytes)) like \"aa5c00f0%\") and lower(hex(uuid)) = \"610800058d6d82b8614a1c8cb0f8dcc6\"\n",
    "\"\"\""
   ]
  },
  {
   "cell_type": "code",
   "execution_count": null,
   "metadata": {},
   "outputs": [],
   "source": [
    "DATABASE_URL = os.getenv(\"DATABASE_URL\").replace(\"sqlite://\", \"sqlite:///../\")\n",
    "df = pd.read_sql(QUERY, DATABASE_URL)"
   ]
  },
  {
   "cell_type": "code",
   "execution_count": null,
   "metadata": {},
   "outputs": [],
   "source": [
    "df[\"datetime\"] = pd.to_datetime(df[\"packet\"].apply(lambda data: struct.unpack('<I', data[11:15])[0]), unit=\"s\")\n",
    "df = df.sort_values(\"datetime\", ascending=True)\n",
    "\n",
    "df['date'] = df['datetime'].dt.date\n",
    "df['time'] = df['datetime'].dt.time\n",
    "df[\"bpm\"] = df[\"packet\"].apply(lambda data: data[21])"
   ]
  },
  {
   "cell_type": "code",
   "execution_count": null,
   "metadata": {},
   "outputs": [],
   "source": [
    "df[\"sleep_stage\"] = df[\"packet\"].apply(lambda data: struct.unpack('<I', data[31:35])[0])"
   ]
  },
  {
   "cell_type": "code",
   "execution_count": null,
   "metadata": {},
   "outputs": [],
   "source": [
    "def plot_heart_rate(days, column):\n",
    "    for day_data in days:\n",
    "        # Create a figure with secondary y-axes\n",
    "        fig = make_subplots(specs=[[{\"secondary_y\": True}]])\n",
    "\n",
    "        # Add heart rate trace to primary y-axis\n",
    "        fig.add_trace(\n",
    "            go.Scatter(x=day_data['datetime'], y=day_data['bpm'], mode='lines', name='Heart Rate (BPM)', line=dict(color='blue')),\n",
    "            secondary_y=False,\n",
    "        )\n",
    "\n",
    "        # Add x trace to secondary y-axis\n",
    "        fig.add_trace(\n",
    "            go.Scatter(x=day_data['datetime'], y=day_data[column], mode='lines', name='X', line=dict(color='orange')),\n",
    "            secondary_y=True,\n",
    "        )\n",
    "\n",
    "        # Update layout for titles and axes\n",
    "        fig.update_layout(\n",
    "            title=f\"Heart Rate and XYZ from {day_data['datetime'].iloc[0].date()} Noon to Next Day Noon\",\n",
    "            xaxis_title=\"Time\",\n",
    "            legend=dict(orientation=\"h\", yanchor=\"bottom\", y=1.02, xanchor=\"right\", x=1),\n",
    "        )\n",
    "\n",
    "        # Update x-axis for time formatting\n",
    "        fig.update_xaxes(tickformat='%H:%M')\n",
    "\n",
    "        # Update y-axes titles\n",
    "        fig.update_yaxes(title_text=\"Heart Rate (BPM)\", secondary_y=False)\n",
    "        fig.update_yaxes(title_text=\"XYZ Values\", secondary_y=True)\n",
    "\n",
    "        # Show the plot\n",
    "        fig.show()"
   ]
  },
  {
   "cell_type": "code",
   "execution_count": null,
   "metadata": {},
   "outputs": [],
   "source": [
    "def filter_noon_to_noon(df):\n",
    "    # Group the data by date\n",
    "    days = []\n",
    "    unique_dates = df['date'].unique()\n",
    "    \n",
    "    for date in unique_dates:\n",
    "        # Define noon of the current day and noon of the next day\n",
    "        start_noon = pd.Timestamp(datetime.datetime.combine(date, datetime.time(12, 0)))\n",
    "        end_noon = start_noon + pd.Timedelta(days=1)\n",
    "        \n",
    "        # Filter data between the start and end noon\n",
    "        day_data = df[(df['datetime'] >= start_noon) & (df['datetime'] < end_noon)].copy()\n",
    "        if not day_data.empty:\n",
    "            days.append(day_data)\n",
    "\n",
    "    return days"
   ]
  },
  {
   "cell_type": "code",
   "execution_count": null,
   "metadata": {},
   "outputs": [],
   "source": [
    "def remove_spikes_row(row, window_size=3, threshold=3):\n",
    "    # Apply median filter\n",
    "    filtered = medfilt(row, kernel_size=window_size)\n",
    "    # Identify spikes\n",
    "    deviation = np.abs(row - filtered)\n",
    "    is_spike = deviation > threshold * np.std(row)\n",
    "    # Replace spikes with filtered values\n",
    "    smoothed = row.copy()\n",
    "    smoothed[is_spike] = filtered[is_spike]\n",
    "    return smoothed"
   ]
  },
  {
   "cell_type": "code",
   "execution_count": null,
   "metadata": {},
   "outputs": [],
   "source": [
    "df[\"sleep_stage\"] = remove_spikes_row(df[\"sleep_stage\"])"
   ]
  },
  {
   "cell_type": "code",
   "execution_count": null,
   "metadata": {},
   "outputs": [],
   "source": [
    "df.loc[df[\"sleep_stage\"] < 500_000_000, \"stage_category\"] = 0\n",
    "df.loc[(df[\"sleep_stage\"] >= 500_000_000) & (df[\"sleep_stage\"] < 900_000_000), \"stage_category\"] = 1\n",
    "df.loc[(df[\"sleep_stage\"] >= 1000_000_000) & (df[\"sleep_stage\"] < 1500_000_000), \"stage_category\"] = 2\n",
    "df.loc[df[\"sleep_stage\"] > 1500_000_000, \"stage_category\"] = 3\n",
    "df[\"stage_category\"] = df[\"stage_category\"].astype(\"int64\")"
   ]
  },
  {
   "cell_type": "code",
   "execution_count": null,
   "metadata": {},
   "outputs": [],
   "source": [
    "days = filter_noon_to_noon(df)\n",
    "plot_heart_rate(days, \"stage_category\")"
   ]
  },
  {
   "cell_type": "code",
   "execution_count": null,
   "metadata": {},
   "outputs": [],
   "source": [
    "SLEEP_DURATION = 600 * 2\n",
    "\n",
    "def identify_sleep(df):\n",
    "    change = df[\"stage_category\"] == df[\"stage_category\"].shift(1)\n",
    "    stage_3 = df[\"stage_category\"] == 2\n",
    "    sleep_starts = df[~change & stage_3][\"datetime\"].tolist()\n",
    "\n",
    "    change = df[\"stage_category\"] == df[\"stage_category\"].shift(-1)\n",
    "    stage_3 = df[\"stage_category\"] == 2\n",
    "    sleep_ends = df[~change & stage_3][\"datetime\"].tolist()\n",
    "    \n",
    "    sleeps = pd.DataFrame(list(zip(sleep_starts, sleep_ends)), columns=[\"start\", \"end\"])\n",
    "\n",
    "    while True:\n",
    "        sleeps[\"next_start\"] = sleeps[\"start\"].shift(-1)\n",
    "        sleeps[\"duration\"] = (sleeps[\"end\"] - sleeps[\"start\"]).apply(lambda x: x.total_seconds())\n",
    "        sleeps[\"sleep_diff\"] = (sleeps[\"next_start\"] - sleeps[\"end\"]).apply(lambda x: x.total_seconds())\n",
    "\n",
    "        merge_mask = sleeps[\"sleep_diff\"] < SLEEP_DURATION\n",
    "        \n",
    "        if not merge_mask.any():\n",
    "            break\n",
    "            \n",
    "        for idx in merge_mask[merge_mask].index:\n",
    "            if idx + 1 >= len(sleeps):\n",
    "                continue\n",
    "\n",
    "            sleeps.at[idx, \"end\"] = sleeps.at[idx + 1, \"end\"]\n",
    "            sleeps = sleeps.drop(idx + 1)\n",
    "        \n",
    "        sleeps = sleeps.reset_index(drop=True)\n",
    "\n",
    "\n",
    "    sleeps[\"duration\"] = (sleeps[\"end\"] - sleeps[\"start\"]).apply(lambda x: x.total_seconds())\n",
    "    sleeps = sleeps[sleeps[\"duration\"] >= SLEEP_DURATION]\n",
    "\n",
    "\n",
    "    sleeps = sleeps[[\"start\", \"end\", \"duration\"]].reset_index(drop=True)\n",
    "    sleeps[\"duration\"] = (sleeps[\"end\"] - sleeps[\"start\"]).apply(lambda x: round(x.total_seconds() / 3600, 2))\n",
    "    return sleeps"
   ]
  },
  {
   "cell_type": "code",
   "execution_count": null,
   "metadata": {},
   "outputs": [],
   "source": [
    "sleep_df = identify_sleep(df)\n",
    "\n",
    "for row in sleep_df.iloc:\n",
    "    print(f\"Start: {row.start}, end: {row.end}, duration: {row.duration}h\")"
   ]
  }
 ],
 "metadata": {
  "kernelspec": {
   "display_name": "Python 3",
   "language": "python",
   "name": "python3"
  },
  "language_info": {
   "codemirror_mode": {
    "name": "ipython",
    "version": 3
   },
   "file_extension": ".py",
   "mimetype": "text/x-python",
   "name": "python",
   "nbconvert_exporter": "python",
   "pygments_lexer": "ipython3",
   "version": "3.10.12"
  }
 },
 "nbformat": 4,
 "nbformat_minor": 2
}
